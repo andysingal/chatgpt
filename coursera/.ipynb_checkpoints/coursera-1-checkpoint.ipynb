{
 "cells": [
  {
   "cell_type": "code",
   "execution_count": null,
   "id": "f042c0f0-94ba-456b-8035-ac90254c22c8",
   "metadata": {},
   "outputs": [],
   "source": [
    "import math\n",
    "\n",
    "def get_distance(lat1, long1, lat2, long2):\n",
    "    '''\n",
    "    Function that takes lat1, long2, lat3, lat4 as an input and returns the distance in meters between two points.\n",
    "    '''"
   ]
  }
 ],
 "metadata": {
  "kernelspec": {
   "display_name": "chatgpt3",
   "language": "python",
   "name": "chatgpt3"
  },
  "language_info": {
   "codemirror_mode": {
    "name": "ipython",
    "version": 3
   },
   "file_extension": ".py",
   "mimetype": "text/x-python",
   "name": "python",
   "nbconvert_exporter": "python",
   "pygments_lexer": "ipython3",
   "version": "3.10.11"
  }
 },
 "nbformat": 4,
 "nbformat_minor": 5
}
